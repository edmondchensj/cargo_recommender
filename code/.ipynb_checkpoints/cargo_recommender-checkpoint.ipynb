{
 "cells": [
  {
   "cell_type": "markdown",
   "metadata": {},
   "source": [
    "# O-D Cities Recommender System\n",
    "This notebook proposes a method to recommend Origin-Destination city routes for cargo drivers. \n",
    "\n",
    "## Background\n",
    "A goal of our research group has been to identify cargo-delivery routes. This is because our data simply lacks ground-truth as to whether drivers are delivering cargo. By identifying cargo-delivery routes, we would be able to do higher-order analysis on driver behaviors such as route predictions. \n",
    "\n",
    "An alternative approach I thought of is to predict a driver's **preferred** origin-destination (O-D) cities routes. While we lack ground-truth on the specific cargo routes, we may be able to detect the city-city preferences of drivers using the company's \"active\" cargo data.\n",
    "\n",
    "The approach is similar to recommender systems carried out by social media platforms such as Netflix. \n",
    "\n",
    "\n",
    "## Method\n",
    "The Recommender System approach used here is **Collaborative Filtering**, which has been commonly used by social media platforms (cite..). The specific algorithm is a form of **Matrix Factorization**, which is the **model-based implementation** of Collaborative Filtering. The algorithm is based on the paper titled [Collaborative Filtering for Implicit Feedback Datasets](http://yifanhu.net/PUB/cf.pdf) by Hu et al. (2008). \n",
    "\n",
    "To implement this algorithhm, I used [this python library](https://github.com/benfred/implicit).  \n",
    "\n",
    "\n",
    "## Data\n",
    "The data used was dr250_active.csv.\n",
    "\n",
    "\n",
    "## Summary of Results\n",
    "Definitions:\n",
    "* N: number of OD pairs recommended to each user,\n",
    "* k: number of OD pairs in the test set for each user.\n",
    "\n",
    "\n",
    "Using parameters N=100 and k=20, the Collaborative Filtering model scored, using [*recall*](https://en.wikipedia.org/wiki/Precision_and_recall): **~18%**. \n",
    "\n",
    "This is compared to the benchmark score of **~0.3%**, based on recommending the same set of top N most popular items to every user."
   ]
  }
 ],
 "metadata": {
  "kernelspec": {
   "display_name": "Python 3",
   "language": "python",
   "name": "python3"
  },
  "language_info": {
   "codemirror_mode": {
    "name": "ipython",
    "version": 3
   },
   "file_extension": ".py",
   "mimetype": "text/x-python",
   "name": "python",
   "nbconvert_exporter": "python",
   "pygments_lexer": "ipython3",
   "version": "3.6.4"
  }
 },
 "nbformat": 4,
 "nbformat_minor": 2
}
